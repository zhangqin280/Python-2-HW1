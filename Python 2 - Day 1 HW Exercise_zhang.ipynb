{
 "cells": [
  {
   "cell_type": "markdown",
   "metadata": {},
   "source": [
    "# OOP - Class "
   ]
  },
  {
   "cell_type": "markdown",
   "metadata": {},
   "source": [
    "## Exercise 1: \n",
    "Create a Player class with a name, a position, and a speed attributes. Set the initial value of speed to 1 and create any necessary methods.\n",
    "Then, \n",
    "1. Create two Player objects and print information about both players.\n",
    "2. Assign 8 to player 1's speed\n",
    "3. print information about both players."
   ]
  },
  {
   "cell_type": "code",
   "execution_count": 25,
   "metadata": {},
   "outputs": [
    {
     "name": "stdout",
     "output_type": "stream",
     "text": [
      "Player name is Tim, position director, speed is 8\n",
      "Player name is Bill, position programmer, speed is 1\n"
     ]
    }
   ],
   "source": [
    "class Player:\n",
    "    def __init__(self,owner,position,speed):\n",
    "        self.position=position\n",
    "        self.speed=speed\n",
    "        self.owner=owner\n",
    "    def print_info(self):\n",
    "        return f\"Player name is {self.owner}, position {self.position}, speed is {self.speed}\"\n",
    "\n",
    "player1=Player(\"Tim\",\"director\",8)\n",
    "print(player1.print_info())\n",
    "\n",
    "player2=Player(\"Bill\",\"programmer\",1)\n",
    "\n",
    "print(player2.print_info())\n"
   ]
  },
  {
   "cell_type": "code",
   "execution_count": null,
   "metadata": {},
   "outputs": [],
   "source": [
    "class Player:\n",
    "    def __init__(self,name,position):\n",
    "        self.name=name\n",
    "        self.position=position\n",
    "        self.speed=1\n",
    "player1=Player(\"Rey\",1)\n",
    "player1=Player(\"Sue\",2)\n",
    "player1.speed=8\n",
    "print(f\")"
   ]
  },
  {
   "cell_type": "markdown",
   "metadata": {},
   "source": [
    "## Exercise 2: \n",
    "Create a class called Rectangle with height and length attributes and has following methods: \n",
    "- perimeter() : returns a perimeter of a rectangle object\n",
    "- area() : returns an area of a rectangle object\n",
    "\n",
    "Then,\n",
    "1. create two instances of Rectangle class\n",
    "2. print each rectangle's perimeter and determine which rectangle has larger perimeter\n",
    "3. print each rectangle's area and determine which rectangle has larger area"
   ]
  },
  {
   "cell_type": "code",
   "execution_count": 34,
   "metadata": {},
   "outputs": [
    {
     "name": "stdout",
     "output_type": "stream",
     "text": [
      "10\n",
      "18\n",
      "The perimeter of myrectangle 2 is larger\n",
      "6 20\n",
      "The area of myrectangle 2 is larger\n"
     ]
    }
   ],
   "source": [
    "class Rectangle:\n",
    "    def __init__(self,height,length):\n",
    "        self.height=height\n",
    "        self.length=length\n",
    "    def perimeter(self):\n",
    "        return self.height*2+self.length*2\n",
    "    def area(self):\n",
    "        return self.height*self.length\n",
    "myrectangle1=Rectangle(2,3)\n",
    "print(myrectangle1.perimeter())\n",
    "myrectangle2=Rectangle(5,4)\n",
    "print(myrectangle2.perimeter())\n",
    "a=myrectangle1.perimeter()\n",
    "b=myrectangle2.perimeter()\n",
    "if a==b:\n",
    "    print(f\"The perimeter of myrectangle 1 is equator to myrectangle 2\" )\n",
    "elif a>b:\n",
    "    print(f\"The perimeter of myrectangle 1 is larger\")\n",
    "else:\n",
    "    print(f\"The perimeter of myrectangle 2 is larger\")\n",
    "aa=myrectangle1.area()\n",
    "bb=myrectangle2.area()\n",
    "print(aa,bb)\n",
    "if aa==bb:\n",
    "    print(f\"The area of myrectangle 1 is equator to myrectangle 2\" )\n",
    "elif aa>bb:\n",
    "    print(f\"The area of myrectangle 1 is larger\")\n",
    "else:\n",
    "    print(f\"The area of myrectangle 2 is larger\")"
   ]
  },
  {
   "cell_type": "code",
   "execution_count": null,
   "metadata": {},
   "outputs": [],
   "source": []
  },
  {
   "cell_type": "markdown",
   "metadata": {},
   "source": [
    "## Exercise 3: \n",
    "Create a class called Triangle with height and base attributes and has following methods:\n",
    "\n",
    "- perimeter() : returns a perimeter of a right triangle object\n",
    "- area() : returns an area of a right triangle object\n",
    "\n",
    "Then,\n",
    "\n",
    "- create two instances of Triangle class\n",
    "- print each triangle's perimeter and determine which triangle has larger perimeter\n",
    "- print each triangle's area and determine which triangle has larger area\n",
    "\n",
    "Use \n",
    "- perimeter of a right triangle = height + base + Square-Root((height \\** 2) + (base \\** 2)) \n",
    "- area of a right triangle = ( height * base ) / 2\n",
    "\n",
    "You'll need to <b>import math</b> library and use <b>math.sqrt()</b> function.\n",
    "\n"
   ]
  },
  {
   "cell_type": "code",
   "execution_count": 46,
   "metadata": {},
   "outputs": [
    {
     "name": "stdout",
     "output_type": "stream",
     "text": [
      "13.8309518948453\n",
      "4.0\n",
      "16.280109889280517\n",
      "4.5\n",
      "The perimeter of mytriangle 2 is larger\n",
      "4.0 4.5\n",
      "The area of mytriangle 2 is larger\n"
     ]
    }
   ],
   "source": [
    "import math\n",
    "class Triangle:\n",
    "    def __init__(self,height,base):\n",
    "        self.height=height\n",
    "        self.base=base\n",
    "    def perimeter(self):\n",
    "        perimeter=self.height+self.base+math.sqrt(self.height**2+self.base**2)\n",
    "#        perimeter=self.height+self.base\n",
    "        return perimeter\n",
    "    def area(self):\n",
    "        area=(self.height+self.base)/2\n",
    "        return area\n",
    "my_triangle1=Triangle(5,3)\n",
    "print(my_triangle1.perimeter())\n",
    "print(my_triangle1.area())\n",
    "my_triangle2=Triangle(7,2)\n",
    "print(my_triangle2.perimeter())\n",
    "print(my_triangle2.area())\n",
    "a=my_triangle1.perimeter()\n",
    "b=my_triangle2.perimeter()\n",
    "if a==b:\n",
    "    print(f\"The perimeter of mytriangle 1 is equator to mytriangle 2\" )\n",
    "elif a>b:\n",
    "    print(f\"The perimeter of mytriangle 1 is larger\")\n",
    "else:\n",
    "    print(f\"The perimeter of mytriangle 2 is larger\")\n",
    "aa=my_triangle1.area()\n",
    "bb=my_triangle2.area()\n",
    "print(aa,bb)\n",
    "if aa==bb:\n",
    "    print(f\"The area of mytriangle 1 is equator to mytriangle 2\" )\n",
    "elif aa>bb:\n",
    "    print(f\"The area of mytriangle 1 is larger\")\n",
    "else:\n",
    "    print(f\"The area of mytriangle 2 is larger\")\n",
    "        \n",
    "    "
   ]
  },
  {
   "cell_type": "markdown",
   "metadata": {},
   "source": [
    "## Exercise 4: \n",
    "Write a program that maintains a list of movies, and the user can list all the movies, add a movie to the list, or delete a movie from the list. All input/output are done at the program level, not at a class level.\n",
    "\n",
    "\n",
    "For Python 1 Day 3 Challenge Exercise, you wrote a program that maintains a list of movies, and the user can list all the movies, add a movie to the list, or delete a movie from the list. Modify that program to use a <b>Movie object</b> to store name, year, and genre of a movie. Create any method you need to access these attributes but your method can not use <b>print</b> function. \n",
    "\n",
    "Additionally, create any function you need to make sure program neat. You may use <b>print</b> function in your function.\n"
   ]
  },
  {
   "cell_type": "code",
   "execution_count": 145,
   "metadata": {},
   "outputs": [
    {
     "name": "stdout",
     "output_type": "stream",
     "text": [
      "1. Toy Story is a Kids movie from 2002\n",
      "2. Lion King is a Kids movie from 2000\n",
      "3. Frozen is a Kids movie from 2015\n",
      "\n",
      "COMMAND MENU\n",
      "list -list all movies\n",
      "add -add a movie\n",
      "del -delete a movie\n",
      "exit -exit program\n",
      "Command del\n",
      "Number: 1\n",
      "COMMAND MENU\n",
      "list -list all movies\n",
      "add -add a movie\n",
      "del -delete a movie\n",
      "exit -exit program\n",
      "Command add\n",
      "Name 007\n",
      "Year 1998\n",
      "Genre action\n"
     ]
    },
    {
     "ename": "AttributeError",
     "evalue": "'Movies' object has no attribute 'get_info'",
     "output_type": "error",
     "traceback": [
      "\u001b[0;31m---------------------------------------------------------------------------\u001b[0m",
      "\u001b[0;31mAttributeError\u001b[0m                            Traceback (most recent call last)",
      "\u001b[0;32m<ipython-input-145-476c4c138dde>\u001b[0m in \u001b[0;36m<module>\u001b[0;34m\u001b[0m\n\u001b[1;32m     57\u001b[0m         \u001b[0mmovie\u001b[0m\u001b[0;34m=\u001b[0m\u001b[0mMovies\u001b[0m\u001b[0;34m(\u001b[0m\u001b[0;34m)\u001b[0m\u001b[0;34m\u001b[0m\u001b[0;34m\u001b[0m\u001b[0m\n\u001b[1;32m     58\u001b[0m         \u001b[0mmy_movies\u001b[0m\u001b[0;34m.\u001b[0m\u001b[0madd_movie\u001b[0m\u001b[0;34m(\u001b[0m\u001b[0mmovie\u001b[0m\u001b[0;34m)\u001b[0m\u001b[0;34m\u001b[0m\u001b[0;34m\u001b[0m\u001b[0m\n\u001b[0;32m---> 59\u001b[0;31m         \u001b[0mprint\u001b[0m\u001b[0;34m(\u001b[0m\u001b[0mmy_movies\u001b[0m\u001b[0;34m.\u001b[0m\u001b[0mlist_movies\u001b[0m\u001b[0;34m(\u001b[0m\u001b[0;34m)\u001b[0m\u001b[0;34m)\u001b[0m\u001b[0;34m\u001b[0m\u001b[0;34m\u001b[0m\u001b[0m\n\u001b[0m\u001b[1;32m     60\u001b[0m     \u001b[0;32melif\u001b[0m \u001b[0mcommand\u001b[0m\u001b[0;34m==\u001b[0m\u001b[0;34m\"del\"\u001b[0m\u001b[0;34m:\u001b[0m\u001b[0;34m\u001b[0m\u001b[0;34m\u001b[0m\u001b[0m\n\u001b[1;32m     61\u001b[0m         \u001b[0mindex\u001b[0m\u001b[0;34m=\u001b[0m\u001b[0mint\u001b[0m\u001b[0;34m(\u001b[0m\u001b[0minput\u001b[0m\u001b[0;34m(\u001b[0m\u001b[0;34m\"Number: \"\u001b[0m\u001b[0;34m)\u001b[0m\u001b[0;34m)\u001b[0m\u001b[0;34m\u001b[0m\u001b[0;34m\u001b[0m\u001b[0m\n",
      "\u001b[0;32m<ipython-input-145-476c4c138dde>\u001b[0m in \u001b[0;36mlist_movies\u001b[0;34m(self)\u001b[0m\n\u001b[1;32m     24\u001b[0m         \u001b[0mindex\u001b[0m\u001b[0;34m=\u001b[0m\u001b[0;36m1\u001b[0m\u001b[0;34m\u001b[0m\u001b[0;34m\u001b[0m\u001b[0m\n\u001b[1;32m     25\u001b[0m         \u001b[0;32mfor\u001b[0m \u001b[0mmovie\u001b[0m \u001b[0;32min\u001b[0m \u001b[0mself\u001b[0m\u001b[0;34m.\u001b[0m\u001b[0mmovie_list\u001b[0m\u001b[0;34m:\u001b[0m\u001b[0;34m\u001b[0m\u001b[0;34m\u001b[0m\u001b[0m\n\u001b[0;32m---> 26\u001b[0;31m             \u001b[0mmsg\u001b[0m\u001b[0;34m+=\u001b[0m\u001b[0mstr\u001b[0m\u001b[0;34m(\u001b[0m\u001b[0mindex\u001b[0m\u001b[0;34m)\u001b[0m\u001b[0;34m+\u001b[0m\u001b[0;34m\". \"\u001b[0m\u001b[0;34m+\u001b[0m\u001b[0mmovie\u001b[0m\u001b[0;34m.\u001b[0m\u001b[0mget_info\u001b[0m\u001b[0;34m(\u001b[0m\u001b[0;34m)\u001b[0m\u001b[0;34m+\u001b[0m\u001b[0;34m\"\\n\"\u001b[0m\u001b[0;34m\u001b[0m\u001b[0;34m\u001b[0m\u001b[0m\n\u001b[0m\u001b[1;32m     27\u001b[0m             \u001b[0mindex\u001b[0m\u001b[0;34m+=\u001b[0m\u001b[0;36m1\u001b[0m\u001b[0;34m\u001b[0m\u001b[0;34m\u001b[0m\u001b[0m\n\u001b[1;32m     28\u001b[0m         \u001b[0;32mreturn\u001b[0m \u001b[0mmsg\u001b[0m\u001b[0;34m\u001b[0m\u001b[0;34m\u001b[0m\u001b[0m\n",
      "\u001b[0;31mAttributeError\u001b[0m: 'Movies' object has no attribute 'get_info'"
     ]
    }
   ],
   "source": [
    "class Movie:\n",
    "    def __init__(self,name,year,genre):\n",
    "        self.name=name\n",
    "        self.year=year\n",
    "        self.genre=genre\n",
    "    def get_info(self):\n",
    "        name=self.name\n",
    "        year=str(self.year)\n",
    "        genre=self.genre\n",
    "        return name +\" is a \"+ genre+\" movie from \"+year\n",
    "class Movies:\n",
    "    def __init__(self):\n",
    "        self.movie_list=[]\n",
    "    def add_movie(self,movie):\n",
    "        self.movie_list.append(movie)\n",
    "    def delete_movie(self,index):\n",
    "        if index<1 or index>len(self.movie_list):\n",
    "            return None\n",
    "        else:\n",
    "            movie=self.movie_list.pop(index-1)\n",
    "            return movie\n",
    "    def list_movies(self):\n",
    "        msg=\"\"\n",
    "        index=1\n",
    "        for movie in self.movie_list:\n",
    "            msg+=str(index)+\". \"+movie.get_info()+\"\\n\"\n",
    "            index+=1\n",
    "        return msg\n",
    "m1=Movie(\"Toy Story\", 2002, \"Kids\")\n",
    "m2=Movie(\"Lion King\", 2000, \"Kids\")\n",
    "m3=Movie(\"Frozen\",2015, \"Kids\")\n",
    "my_movies=Movies()\n",
    "my_movies.add_movie(m1)\n",
    "my_movies.add_movie(m2)\n",
    "my_movies.add_movie(m3)\n",
    "print(my_movies.list_movies())\n",
    "\n",
    "    \n",
    "def display_menu():\n",
    "    print(\"COMMAND MENU\")\n",
    "    print(\"list -list all movies\")\n",
    "    print(\"add -add a movie\" )\n",
    "    print(\"del -delete a movie\")\n",
    "    print(\"exit -exit program\")\n",
    "#    print()\n",
    "\n",
    "while True:\n",
    "    display_menu()\n",
    "    command=input(\"Command \")\n",
    "    if command==\"list\":\n",
    "        \n",
    "        print(my_movies.list_movies())\n",
    "    elif command==\"add\":\n",
    "        name=input(\"Name \")\n",
    "        year=input(\"Year \")\n",
    "        genre=input(\"Genre \")\n",
    "        movie=Movies()\n",
    "        my_movies.add_movie(movie)\n",
    "        print(my_movies.list_movies())\n",
    "    elif command==\"del\":\n",
    "        index=int(input(\"Number: \"))\n",
    "#        movie=Movies()\n",
    "        my_movies.delete_movie(index)\n",
    "        \n",
    "    elif command==\"exit\":\n",
    "        break"
   ]
  },
  {
   "cell_type": "markdown",
   "metadata": {},
   "source": [
    "## Exercise 5: \n",
    "Create a class called Employee with \n",
    "- firstname,\n",
    "- lastname, \n",
    "- joined_date\n",
    "- active\n",
    "\n",
    "attributes and methods to retrieve each attribute.\n",
    "\n",
    "Then, write a program to \n",
    "- add 10 or more employees\n",
    "- print all employees' information\n",
    "- print all active employees' information\n",
    "\n",
    "Create any methods you need but all print statements should be called from your program, not in your class method!\n",
    "\n",
    "You must use below data set (but can add more):\n",
    "\n",
    "    data = [{\"first\":\"elmo\", \"last\":\"monster\", \"year\": 2000},\n",
    "            {\"first\":\"count\", \"last\":\"count\", \"year\": 1819},\n",
    "            {\"first\":\"big\", \"last\":\"bird\", \"year\": 2011},\n",
    "            {\"first\":\"cookie\", \"last\":\"monster\", \"year\": 2002},\n",
    "            {\"first\":\"bert\", \"last\": \"person\", \"year\": 2013},\n",
    "            {\"first\":\"ernie\", \"last\": \"person\", \"year\": 2013},\n",
    "            {\"first\":\"oscar\", \"last\": \"grouch\", \"year\": 1999},\n",
    "            {\"first\":\"zoe\", \"last\": \"cutie\", \"year\": 2015},\n",
    "            {\"first\":\"abby\", \"last\": \"cadabby\", \"year\": 2016},\n",
    "            {\"first\":\"prairie\", \"last\": \"dawn\", \"year\": 2020}\n",
    "       ]"
   ]
  },
  {
   "cell_type": "code",
   "execution_count": 143,
   "metadata": {},
   "outputs": [],
   "source": [
    "class Employee:\n",
    "    def __init__(self,fname,lname,jdate,active):\n",
    "        self.fname=fname\n",
    "        self.lname=lname\n",
    "        self.jdate=jdate\n",
    "        self.active=active\n",
    "    def get_full_name(self):\n",
    "        return self.lname+\",\"+self.fname+self.jdate+\",\"+self.active\n",
    "    def get_info(self):\n",
    "        return f\"{self.fname}\\t\\t{self.lname}\\t\\t{self.jdate}\\t\\t{self.active}\"\n",
    "#        print(f\"{self.lname},{self.fname}\")"
   ]
  },
  {
   "cell_type": "code",
   "execution_count": 144,
   "metadata": {},
   "outputs": [
    {
     "name": "stdout",
     "output_type": "stream",
     "text": [
      "elmo\t\tmonster\t\t2000\t\t0\n",
      "count\t\tcount\t\t1819\t\t0\n",
      "big\t\tbird\t\t2011\t\t0\n",
      "cookie\t\tmonster\t\t2002\t\t1\n",
      "bert\t\tperson\t\t2013\t\t1\n",
      "ernie\t\tperson\t\t2013\t\t0\n",
      "oscar\t\tgrouch\t\t1999\t\t1\n",
      "zoe\t\tcutie\t\t2015\t\t1\n",
      "abby\t\tcadabby\t\t2016\t\t0\n",
      "prairie\t\tdawn\t\t2020\t\t1\n"
     ]
    }
   ],
   "source": [
    "import random as r\n",
    "data = [{\"first\":\"elmo\", \"last\":\"monster\", \"year\": 2000},\n",
    "            {\"first\":\"count\", \"last\":\"count\", \"year\": 1819},\n",
    "            {\"first\":\"big\", \"last\":\"bird\", \"year\": 2011},\n",
    "            {\"first\":\"cookie\", \"last\":\"monster\", \"year\": 2002},\n",
    "            {\"first\":\"bert\", \"last\": \"person\", \"year\": 2013},\n",
    "            {\"first\":\"ernie\", \"last\": \"person\", \"year\": 2013},\n",
    "            {\"first\":\"oscar\", \"last\": \"grouch\", \"year\": 1999},\n",
    "            {\"first\":\"zoe\", \"last\": \"cutie\", \"year\": 2015},\n",
    "            {\"first\":\"abby\", \"last\": \"cadabby\", \"year\": 2016},\n",
    "            {\"first\":\"prairie\", \"last\": \"dawn\", \"year\": 2020}]\n",
    "       \n",
    "all_employees=[]\n",
    "\n",
    "for employee in data:\n",
    "    first=\"\"\n",
    "    last=\"\"\n",
    "    year=0\n",
    "    for key,value in employee.items():\n",
    "        if key==\"first\":\n",
    "            first=value\n",
    "#            print({key},{value})\n",
    "        elif key==\"last\":\n",
    "            last=value\n",
    "#            print({key},{value})\n",
    "        elif key==\"year\":\n",
    "            year=value\n",
    "#            print({key},{value})\n",
    "        else:\n",
    "            print(\"Unknown key value\")\n",
    "            break\n",
    "        \n",
    "    employee=Employee(first,last,year,r.randint(0,1))\n",
    "#    print(employee.get_info())\n",
    "    \n",
    "    all_employees.append(employee)\n",
    "#    print(all_employees.get_full_name())\n",
    "#    print(employee.get_info())\n",
    "for item in all_employees:\n",
    "    print(item.get_info())\n",
    "#    if item.active==True:"
   ]
  },
  {
   "cell_type": "code",
   "execution_count": null,
   "metadata": {},
   "outputs": [],
   "source": []
  }
 ],
 "metadata": {
  "kernelspec": {
   "display_name": "Python 3",
   "language": "python",
   "name": "python3"
  },
  "language_info": {
   "codemirror_mode": {
    "name": "ipython",
    "version": 3
   },
   "file_extension": ".py",
   "mimetype": "text/x-python",
   "name": "python",
   "nbconvert_exporter": "python",
   "pygments_lexer": "ipython3",
   "version": "3.8.8"
  }
 },
 "nbformat": 4,
 "nbformat_minor": 4
}
